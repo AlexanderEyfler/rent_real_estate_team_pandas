{
 "cells": [
  {
   "cell_type": "code",
   "execution_count": 38,
   "metadata": {},
   "outputs": [],
   "source": [
    "# основные библиотеки для работы с данными\n",
    "import pandas as pd\n",
    "import numpy as np\n",
    "import re\n",
    "\n",
    "# инструменты визуализации\n",
    "import matplotlib as mpl\n",
    "import matplotlib.pyplot as plt\n",
    "import seaborn as sns"
   ]
  },
  {
   "cell_type": "code",
   "execution_count": 39,
   "metadata": {},
   "outputs": [],
   "source": [
    "pd.set_option('display.max_columns', 30)"
   ]
  },
  {
   "cell_type": "code",
   "execution_count": 40,
   "metadata": {},
   "outputs": [],
   "source": [
    "# загружаем датасет, который был частично обработан на этапе первого релиза\n",
    "# логику обработки и принятия решений можно посмотреть в:\n",
    "# realises/Release_1/EDA_part_1.ipynb\n",
    "# Здесь работа с датасетом продолжается на том месте, на котором остановились\n",
    "# на предыдущем этапе\n",
    "# Датасеты \"слили\" в общий опять, и работали уже над одни объемом\n",
    "df = pd.read_csv('/Users/alex_eyfler/ds_bootcamp/rent_real_estate_team_pandas/Alexander/data/full_cleaned_data.csv')"
   ]
  },
  {
   "cell_type": "code",
   "execution_count": 41,
   "metadata": {},
   "outputs": [
    {
     "name": "stdout",
     "output_type": "stream",
     "text": [
      "<class 'pandas.core.frame.DataFrame'>\n",
      "RangeIndex: 23199 entries, 0 to 23198\n",
      "Data columns (total 21 columns):\n",
      " #   Column               Non-Null Count  Dtype  \n",
      "---  ------               --------------  -----  \n",
      " 0   ID  объявления       23199 non-null  int64  \n",
      " 1   Количество комнат    22170 non-null  float64\n",
      " 2   Метро                21893 non-null  object \n",
      " 3   Парковка             9871 non-null   object \n",
      " 4   Ремонт               20454 non-null  object \n",
      " 5   Балкон               15287 non-null  float64\n",
      " 6   Окна                 16643 non-null  object \n",
      " 7   Высота потолков, м   11122 non-null  float64\n",
      " 8   Мусоропровод         12743 non-null  object \n",
      " 9   Общая площадь, м2    23199 non-null  float64\n",
      " 10  Тип дома             23199 non-null  object \n",
      " 11  Этажность дома       23199 non-null  int64  \n",
      " 12  Этаж квартиры        23199 non-null  int64  \n",
      " 13  Лоджия               15287 non-null  float64\n",
      " 14  Санузел совмещенный  20559 non-null  float64\n",
      " 15  Санузел раздельный   20559 non-null  float64\n",
      " 16  Лифт пасс            17730 non-null  float64\n",
      " 17  Лифт груз            17730 non-null  float64\n",
      " 18  Можно с детьми       16912 non-null  float64\n",
      " 19  Можно с животными    7097 non-null   float64\n",
      " 20  Цена аренды          23199 non-null  float64\n",
      "dtypes: float64(12), int64(3), object(6)\n",
      "memory usage: 3.7+ MB\n"
     ]
    }
   ],
   "source": [
    "df.info()"
   ]
  },
  {
   "cell_type": "code",
   "execution_count": 42,
   "metadata": {},
   "outputs": [
    {
     "data": {
      "text/plain": [
       "ID  объявления             0\n",
       "Количество комнат       1029\n",
       "Метро                   1306\n",
       "Парковка               13328\n",
       "Ремонт                  2745\n",
       "Балкон                  7912\n",
       "Окна                    6556\n",
       "Высота потолков, м     12077\n",
       "Мусоропровод           10456\n",
       "Общая площадь, м2          0\n",
       "Тип дома                   0\n",
       "Этажность дома             0\n",
       "Этаж квартиры              0\n",
       "Лоджия                  7912\n",
       "Санузел совмещенный     2640\n",
       "Санузел раздельный      2640\n",
       "Лифт пасс               5469\n",
       "Лифт груз               5469\n",
       "Можно с детьми          6287\n",
       "Можно с животными      16102\n",
       "Цена аренды                0\n",
       "dtype: int64"
      ]
     },
     "execution_count": 42,
     "metadata": {},
     "output_type": "execute_result"
    }
   ],
   "source": [
    "df.isnull().sum()"
   ]
  },
  {
   "cell_type": "code",
   "execution_count": 43,
   "metadata": {},
   "outputs": [],
   "source": [
    "# делали глубокую копию датафрейма, чтобы работать уже с ней\n",
    "# планировалось поменять переменные и причесать все в красивый вид,\n",
    "# но времени не хватило\n",
    "df_tested = df.copy()"
   ]
  },
  {
   "cell_type": "code",
   "execution_count": 44,
   "metadata": {},
   "outputs": [],
   "source": [
    "# если не указано в явном виде в объявлении, что можно с животными\n",
    "# принимаем то, что с животными нельзя и заполняем колонку нулями\n",
    "\n",
    "df_tested['Можно с животными'] = df_tested['Можно с животными'].fillna(0)"
   ]
  },
  {
   "cell_type": "code",
   "execution_count": 45,
   "metadata": {},
   "outputs": [],
   "source": [
    "# по такой же логике коллегиально приняли решение заполнять пропуски, если нет\n",
    "# явного указания в объявлении на то, что можно с детьми\n",
    "\n",
    "df_tested['Можно с детьми'] = df_tested['Можно с детьми'].fillna(0)"
   ]
  },
  {
   "cell_type": "code",
   "execution_count": 46,
   "metadata": {},
   "outputs": [],
   "source": [
    "# заполняем пропуски в колонках с лифтами\n",
    "# принято решение, что если этажность дома больше 5, то добавляем по одному\n",
    "# пассажирскому и одному грузовому лифту\n",
    "\n",
    "df_tested.loc[\n",
    "    (df_tested['Этажность дома'] > 5) & \n",
    "    (df_tested['Лифт пасс'].isna()) &\n",
    "    (df_tested['Лифт груз'].isna()),\n",
    "    ['Лифт пасс', 'Лифт груз']\n",
    "    ] = 1"
   ]
  },
  {
   "cell_type": "code",
   "execution_count": 47,
   "metadata": {},
   "outputs": [],
   "source": [
    "# оставшиеся пропуски заполняем нулями, т.к. если этажность дома меньше либо равна 5,\n",
    "# принято решение, что лифтов в таком доме лифтов нет\n",
    "\n",
    "df_tested[['Лифт пасс', 'Лифт груз']] = df_tested[['Лифт пасс', 'Лифт груз']].fillna(0)"
   ]
  },
  {
   "cell_type": "code",
   "execution_count": 48,
   "metadata": {},
   "outputs": [],
   "source": [
    "# заполняем пропущенное значение санузла\n",
    "# если не указан никакой из санузлов в объявлении,\n",
    "# значит считаем, что один совмещенный\n",
    "\n",
    "df_tested.loc[\n",
    "    (df_tested['Санузел совмещенный'].isna()) &\n",
    "    (df_tested['Санузел раздельный'].isna()),\n",
    "    ['Санузел совмещенный']\n",
    "    ] = 1"
   ]
  },
  {
   "cell_type": "code",
   "execution_count": 49,
   "metadata": {},
   "outputs": [],
   "source": [
    "# заполняем оставшиеся пропуски нулевыми значениями\n",
    "df_tested['Санузел совмещенный'] = df_tested['Санузел совмещенный'].fillna(0)\n",
    "df_tested['Санузел раздельный'] = df_tested['Санузел раздельный'].fillna(0)"
   ]
  },
  {
   "cell_type": "code",
   "execution_count": 50,
   "metadata": {},
   "outputs": [],
   "source": [
    "# если в изначальном объявлении не указано ни о лоджии, ни о балконе,\n",
    "# считаем, что их нет и зануляем значение\n",
    "# т.к. это конкурентное преимущество, и было бы явно указано о наличии балкона\n",
    "# и лоджии, если бы они были\n",
    "\n",
    "df_tested['Лоджия'] = df_tested['Лоджия'].fillna(0)\n",
    "df_tested['Балкон'] = df_tested['Балкон'].fillna(0)"
   ]
  },
  {
   "cell_type": "code",
   "execution_count": 51,
   "metadata": {},
   "outputs": [],
   "source": [
    "# если мусоропровод не указан, принимаем, что его нет и зануляем значение\n",
    "df_tested['Мусоропровод'] = df_tested['Мусоропровод'].fillna(0)"
   ]
  },
  {
   "cell_type": "code",
   "execution_count": 52,
   "metadata": {},
   "outputs": [],
   "source": [
    "# заполняем пропуски по высоте потолков\n",
    "# используем медиану, игнорируя NaN значения при ее вычислении\n",
    "# медиана принята как нечувствительная к выбросам величина\n",
    "\n",
    "median_value = np.nanmedian(df_tested['Высота потолков, м'])\n",
    "df_tested['Высота потолков, м'] = df_tested['Высота потолков, м'].fillna(median_value)"
   ]
  },
  {
   "cell_type": "code",
   "execution_count": 53,
   "metadata": {},
   "outputs": [],
   "source": [
    "# заполняем пропущенные значения по наиболее часто встречающейся величине - моде\n",
    "# моду смотрели в процессе работы через value_counts()\n",
    "\n",
    "df_tested['Окна'] = df_tested['Окна'].fillna('Во двор')"
   ]
  },
  {
   "cell_type": "code",
   "execution_count": 54,
   "metadata": {},
   "outputs": [],
   "source": [
    "# аналогично, по моде заполняем пропущенные значения ремонта\n",
    "\n",
    "df_tested['Ремонт'] = df_tested['Ремонт'].fillna('Евроремонт')"
   ]
  },
  {
   "cell_type": "code",
   "execution_count": 55,
   "metadata": {},
   "outputs": [],
   "source": [
    "# аналогично, по моде заполняем пропущенные значения для парковки\n",
    "df_tested['Парковка'] = df_tested['Парковка'].fillna('наземная')"
   ]
  },
  {
   "cell_type": "code",
   "execution_count": 56,
   "metadata": {},
   "outputs": [],
   "source": [
    "# заполнить пропуски метро по моде оказалось некорректно, т.к. небольшая разница\n",
    "# между самым частым значением и последующими\n",
    "# принято решение распределить по топ5 самым частым значениям\n",
    "\n",
    "top_5_stations = df_tested['Метро'].value_counts().index[:5]\n",
    "\n",
    "def fill_with_top_5(row, top_5):\n",
    "    if pd.isna(row['Метро']):\n",
    "        return np.random.choice(top_5)  # Случайный выбор станции из топ-5\n",
    "    return row['Метро']\n",
    "\n",
    "\n",
    "df_tested['Метро'] = df_tested.apply(lambda row: fill_with_top_5(row, top_5_stations), axis=1)\n"
   ]
  },
  {
   "cell_type": "code",
   "execution_count": 57,
   "metadata": {},
   "outputs": [],
   "source": [
    "# количество комнат тоже нельзя однозначно описать по моде\n",
    "# поэтому написали логику замены значений в зависимости от значений общей площади\n",
    "# соотношение площади и количества комнат выявили собственным эмпирическим путем :)\n",
    "\n",
    "df_tested.loc[(df_tested['Количество комнат'].isna()) & (df_tested['Общая площадь, м2'] < 40), 'Количество комнат'] = 1\n",
    "df_tested.loc[(df_tested['Количество комнат'].isna()) & (df_tested['Общая площадь, м2'] >= 40) & (df_tested['Общая площадь, м2'] < 60), 'Количество комнат'] = 2\n",
    "df_tested.loc[(df_tested['Количество комнат'].isna()) & (df_tested['Общая площадь, м2'] >= 60) & (df_tested['Общая площадь, м2'] < 80), 'Количество комнат'] = 3\n",
    "df_tested.loc[(df_tested['Количество комнат'].isna()) & (df_tested['Общая площадь, м2'] >= 80) & (df_tested['Общая площадь, м2'] < 100), 'Количество комнат'] = 4\n",
    "df_tested.loc[(df_tested['Количество комнат'].isna()) & (df_tested['Общая площадь, м2'] >= 100), 'Количество комнат'] = 5\n"
   ]
  },
  {
   "cell_type": "code",
   "execution_count": 58,
   "metadata": {},
   "outputs": [],
   "source": [
    "# удалим полные дубликаты по всем колонкам, за исключением ID и цены аренды\n",
    "# чтобы с одинаковыми наборами фичей у нас не получились разные цены и модель\n",
    "# \"не запуталась\", как мы предположили\n",
    "\n",
    "df_tested = df_tested.drop_duplicates(subset=[\n",
    "    'Количество комнат',\n",
    "    'Метро',\n",
    "    'Парковка',\n",
    "    'Ремонт',\n",
    "    'Балкон',\n",
    "    'Окна',\n",
    "    'Высота потолков, м',\n",
    "    'Мусоропровод',\n",
    "    'Общая площадь, м2',\n",
    "    'Тип дома',\n",
    "    'Этажность дома',\n",
    "    'Этаж квартиры',\n",
    "    'Лоджия',\n",
    "    'Санузел совмещенный',\n",
    "    'Санузел раздельный',\n",
    "    'Лифт пасс',\n",
    "    'Лифт груз',\n",
    "    'Можно с детьми',\n",
    "    'Можно с животными'\n",
    "    ]\n",
    "                          )"
   ]
  },
  {
   "cell_type": "code",
   "execution_count": 59,
   "metadata": {},
   "outputs": [],
   "source": [
    "# сохранение файла после препроцессинга для дальнейших манипуляций по преобразованию типов данных колонок\n",
    "# df_tested.to_csv('/Users/alex_eyfler/ds_bootcamp/rent_real_estate_team_pandas/Alexander/data/almost_final_full_data.csv', index=False)"
   ]
  }
 ],
 "metadata": {
  "kernelspec": {
   "display_name": "Python 3",
   "language": "python",
   "name": "python3"
  },
  "language_info": {
   "codemirror_mode": {
    "name": "ipython",
    "version": 3
   },
   "file_extension": ".py",
   "mimetype": "text/x-python",
   "name": "python",
   "nbconvert_exporter": "python",
   "pygments_lexer": "ipython3",
   "version": "3.10.14"
  }
 },
 "nbformat": 4,
 "nbformat_minor": 2
}
