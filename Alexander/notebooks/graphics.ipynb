{
 "cells": [
  {
   "cell_type": "code",
   "execution_count": 1,
   "metadata": {},
   "outputs": [],
   "source": [
    "# основные библиотеки для работы с данными\n",
    "import pandas as pd\n",
    "import numpy as np\n",
    "import re\n",
    "\n",
    "# инструменты визуализации\n",
    "import matplotlib as mpl\n",
    "import matplotlib.pyplot as plt\n",
    "import seaborn as sns"
   ]
  },
  {
   "cell_type": "code",
   "execution_count": null,
   "metadata": {},
   "outputs": [],
   "source": [
    "# Построим гистрограмму распределения квартир по количеству комнат.\n",
    "# Для наглядности, заменим пропущенные значения на строку NaN, чтобы это стало\n",
    "# категорией и отобразилось на графике\n",
    "\n",
    "# Пока оставить как пример говно графика\n",
    "\n",
    "sns.displot(\n",
    "    data=df,\n",
    "    x=df['Количество комнат'].fillna('Не указано (NaN)'),\n",
    "    kind='hist',\n",
    "    kde=True,\n",
    "    height=6,\n",
    "    aspect=2\n",
    ")\n",
    "plt.xlabel(xlabel='Количество комнат')\n",
    "plt.xticks(rotation=90)\n",
    "plt.ylabel(ylabel='Частота')\n",
    "plt.title(label='Распределение квартир по количеству комнат')\n",
    "plt.tight_layout();"
   ]
  },
  {
   "cell_type": "code",
   "execution_count": null,
   "metadata": {},
   "outputs": [],
   "source": []
  }
 ],
 "metadata": {
  "kernelspec": {
   "display_name": "Python 3",
   "language": "python",
   "name": "python3"
  },
  "language_info": {
   "codemirror_mode": {
    "name": "ipython",
    "version": 3
   },
   "file_extension": ".py",
   "mimetype": "text/x-python",
   "name": "python",
   "nbconvert_exporter": "python",
   "pygments_lexer": "ipython3",
   "version": "3.10.14"
  }
 },
 "nbformat": 4,
 "nbformat_minor": 2
}
